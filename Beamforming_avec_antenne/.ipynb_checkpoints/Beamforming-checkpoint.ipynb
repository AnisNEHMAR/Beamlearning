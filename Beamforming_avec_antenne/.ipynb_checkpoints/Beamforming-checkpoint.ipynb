{
 "cells": [
  {
   "cell_type": "markdown",
   "id": "13228206",
   "metadata": {},
   "source": [
    "  <blockquote><h1> LOCALISATION DE SOURCE </h1></blockquote>\n",
    " "
   ]
  },
  {
   "cell_type": "markdown",
   "id": "eba3d9ff",
   "metadata": {},
   "source": [
    "## Bibliotheques "
   ]
  },
  {
   "cell_type": "code",
   "execution_count": 1,
   "id": "92ce69d3",
   "metadata": {},
   "outputs": [],
   "source": [
    "# pip install libusb1 numpy matplotlib sounddevice"
   ]
  },
  {
   "cell_type": "code",
   "execution_count": 6,
   "id": "4374ac07",
   "metadata": {},
   "outputs": [],
   "source": [
    "from core import Mu32\n",
    "import numpy as np\n",
    "import matplotlib.pyplot as plt\n",
    "from glob import * \n",
    "import examples.mu32autotest as autotest\n",
    "import logging\n",
    "from core import Mu32, Mu32Exception, mu32log\n",
    "import BF_algo as bf\n",
    "from os.path import dirname, join as pjoin\n",
    "from scipy.io import wavfile\n",
    "import scipy.io"
   ]
  },
  {
   "cell_type": "code",
   "execution_count": 7,
   "id": "af02adc3",
   "metadata": {
    "scrolled": true
   },
   "outputs": [
    {
     "name": "stderr",
     "output_type": "stream",
     "text": [
      "\u001b[35;21m2022-01-28 15:55:08,198 \u001b[0m[INFO]: \u001b[34;21mMu32: Start running recording...\u001b[0m\n",
      "\u001b[35;21m2022-01-28 15:55:08,198 \u001b[0m[INFO]: \u001b[34;21m--------------------\u001b[0m\n",
      "\u001b[35;21m2022-01-28 15:55:08,198 \u001b[0m[INFO]: \u001b[34;21mMu32: sampling frequency: 50000 Hz\u001b[0m\n",
      "\u001b[35;21m2022-01-28 15:55:08,198 \u001b[0m[INFO]: \u001b[34;21m .desired recording duration: 1 s\u001b[0m\n",
      "\u001b[35;21m2022-01-28 15:55:08,206 \u001b[0m[INFO]: \u001b[34;21m .minimal recording duration: 0.993280 s\u001b[0m\n",
      "\u001b[35;21m2022-01-28 15:55:08,206 \u001b[0m[INFO]: \u001b[34;21m .datatype: int32\u001b[0m\n",
      "\u001b[35;21m2022-01-28 15:55:08,206 \u001b[0m[INFO]: \u001b[34;21m .number of USB transfer buffers: 8\u001b[0m\n",
      "\u001b[35;21m2022-01-28 15:55:08,206 \u001b[0m[INFO]: \u001b[34;21m .buffer length in samples number: 512 (10.240000 ms duration)\u001b[0m\n",
      "\u001b[35;21m2022-01-28 15:55:08,206 \u001b[0m[INFO]: \u001b[34;21m .minimal transfers count: 97\u001b[0m\n",
      "\u001b[35;21m2022-01-28 15:55:08,206 \u001b[0m[INFO]: \u001b[34;21m .32 activated microphones\u001b[0m\n",
      "\u001b[35;21m2022-01-28 15:55:08,206 \u001b[0m[INFO]: \u001b[34;21m .activated microphones: [0, 1, 2, 3, 4, 5, 6, 7, 8, 9, 10, 11, 12, 13, 14, 15, 16, 17, 18, 19, 20, 21, 22, 23, 24, 25, 26, 27, 28, 29, 30, 31]\u001b[0m\n"
     ]
    },
    {
     "name": "stdout",
     "output_type": "stream",
     "text": [
      "--------------------\n",
      "Mu32 Autotest program\n",
      " Copyright (C) 2022  DistalSense\n",
      " This program comes with ABSOLUTELY NO WARRANTY; for details see the source code'.\n",
      " This is free software, and you are welcome to redistribute it\n",
      " under certain conditions; see the source code for details.\n",
      "--------------------\n"
     ]
    },
    {
     "name": "stderr",
     "output_type": "stream",
     "text": [
      "\u001b[35;21m2022-01-28 15:55:10,326 \u001b[0m[INFO]: \u001b[34;21m .end of acquisition\u001b[0m\n",
      "\u001b[35;21m2022-01-28 15:55:10,326 \u001b[0m[INFO]: \u001b[34;21m .processing data...\u001b[0m\n",
      "\u001b[35;21m2022-01-28 15:55:10,690 \u001b[0m[INFO]: \u001b[34;21m--------------------\u001b[0m\n",
      "\u001b[35;21m2022-01-28 15:55:10,690 \u001b[0m[INFO]: \u001b[34;21mMu32: end\u001b[0m\n"
     ]
    },
    {
     "name": "stdout",
     "output_type": "stream",
     "text": [
      "Autotest results:\n",
      "--------------------\n",
      " .counted 106 recorded data buffers\n",
      " .equivalent recording time is: 1.08544 s\n",
      " .detected 0 active MEMs: []\n",
      "--------------------\n"
     ]
    }
   ],
   "source": [
    "'''\n",
    "@ Fonction Autotest : \n",
    "        return :  une affichage des microphones qui sont activés.\n",
    "'''\n",
    "autotest.main()"
   ]
  },
  {
   "cell_type": "code",
   "execution_count": 9,
   "id": "4811aca3",
   "metadata": {},
   "outputs": [
    {
     "name": "stderr",
     "output_type": "stream",
     "text": [
      "\u001b[35;21m2022-01-28 15:55:15,811 \u001b[0m[INFO]: \u001b[34;21m--------------------\u001b[0m\n",
      "\u001b[35;21m2022-01-28 15:55:15,812 \u001b[0m[INFO]: \u001b[34;21mMu32: end\u001b[0m\n",
      "\u001b[35;21m2022-01-28 15:55:15,812 \u001b[0m[INFO]: \u001b[34;21mMu32: Start running recording...\u001b[0m\n",
      "\u001b[35;21m2022-01-28 15:55:15,812 \u001b[0m[INFO]: \u001b[34;21m--------------------\u001b[0m\n",
      "\u001b[35;21m2022-01-28 15:55:15,812 \u001b[0m[INFO]: \u001b[34;21mMu32: sampling frequency: 50000 Hz\u001b[0m\n",
      "\u001b[35;21m2022-01-28 15:55:15,812 \u001b[0m[INFO]: \u001b[34;21m .desired recording duration: 1 s\u001b[0m\n",
      "\u001b[35;21m2022-01-28 15:55:15,812 \u001b[0m[INFO]: \u001b[34;21m .minimal recording duration: 0.993280 s\u001b[0m\n",
      "\u001b[35;21m2022-01-28 15:55:15,820 \u001b[0m[INFO]: \u001b[34;21m .datatype: int32\u001b[0m\n",
      "\u001b[35;21m2022-01-28 15:55:15,820 \u001b[0m[INFO]: \u001b[34;21m .number of USB transfer buffers: 8\u001b[0m\n",
      "\u001b[35;21m2022-01-28 15:55:15,820 \u001b[0m[INFO]: \u001b[34;21m .buffer length in samples number: 512 (10.240000 ms duration)\u001b[0m\n",
      "\u001b[35;21m2022-01-28 15:55:15,820 \u001b[0m[INFO]: \u001b[34;21m .minimal transfers count: 97\u001b[0m\n",
      "\u001b[35;21m2022-01-28 15:55:15,820 \u001b[0m[INFO]: \u001b[34;21m .32 activated microphones\u001b[0m\n",
      "\u001b[35;21m2022-01-28 15:55:15,820 \u001b[0m[INFO]: \u001b[34;21m .activated microphones: [0, 1, 2, 3, 4, 5, 6, 7, 8, 9, 10, 11, 12, 13, 14, 15, 16, 17, 18, 19, 20, 21, 22, 23, 24, 25, 26, 27, 28, 29, 30, 31]\u001b[0m\n",
      "\u001b[35;21m2022-01-28 15:55:16,845 \u001b[0m\u001b[30;1m[WARNING]: \u001b[0m\u001b[33;21min core (core.py:442): Mu32: got 1344 samples against 16384 samples desired. Complete without processing data\u001b[0m\n",
      "\u001b[35;21m2022-01-28 15:55:16,845 \u001b[0m\u001b[30;1m[WARNING]: \u001b[0m\u001b[33;21min core (core.py:442): Mu32: got 0 samples against 16384 samples desired. Complete without processing data\u001b[0m\n",
      "\u001b[35;21m2022-01-28 15:55:17,932 \u001b[0m[INFO]: \u001b[34;21m .end of acquisition\u001b[0m\n",
      "\u001b[35;21m2022-01-28 15:55:17,932 \u001b[0m[INFO]: \u001b[34;21m .processing data...\u001b[0m\n"
     ]
    },
    {
     "name": "stdout",
     "output_type": "stream",
     "text": [
      "--------------------\n",
      " .counted 106 recorded data buffers\n",
      " .equivalent recording time is: 1.08544 s\n",
      " .detected 0 active MEMs: []\n",
      "--------------------\n"
     ]
    }
   ],
   "source": [
    "mu32 = Mu32() # creer l'objet Mu32 \n",
    "mu32.run(\n",
    "    mems=[i for i in range(32)],\n",
    "    post_callback_fn=mu32.post_callback_autotest, # fonction callback pour l'autotest du systeme Mu32\n",
    ")\n"
   ]
  },
  {
   "cell_type": "markdown",
   "id": "8652b678",
   "metadata": {},
   "source": [
    "# "
   ]
  },
  {
   "cell_type": "code",
   "execution_count": 10,
   "id": "04fd8069",
   "metadata": {},
   "outputs": [],
   "source": [
    "#Activatino de 7 microphones d'acquisition \n",
    "#Pendant une durée 5 secondes \n",
    "\n",
    "MEMS=(0, 1, 2,3,4,5,6)  \n",
    "MEMS_NUMBER = len( MEMS )\n",
    "DURATION = 5"
   ]
  },
  {
   "cell_type": "code",
   "execution_count": 11,
   "id": "0109c9be",
   "metadata": {},
   "outputs": [],
   "source": [
    "name_wave=[]\n",
    "def post_callback_plot( mu32: Mu32 ):\n",
    "    \"\"\"\n",
    "    get queued signals\n",
    "    \"\"\"\n",
    "    q_size = mu32.signal_q.qsize()\n",
    "    if q_size== 0:\n",
    "        raise Exception( 'No received data !' )\n",
    "    signal = []\n",
    "    for _ in range( q_size ):\n",
    "        signal = np.append( signal, mu32.signal_q.get( block=False ) )\n",
    "    samples_number = int( len( signal )/MEMS_NUMBER )\n",
    "    signal = signal.reshape( samples_number, MEMS_NUMBER )\n",
    "    \"\"\"\n",
    "    plot signals\n",
    "    \"\"\"\n",
    "    from scipy.io.wavfile import write\n",
    "    \n",
    "    sps = 44100\n",
    "    fig, axs = plt.subplots( MEMS_NUMBER )\n",
    "    fig.suptitle( 'Mems signals' )\n",
    "    time = np.array( [t for t in range( samples_number )] )\n",
    "    \n",
    "    name_wave=['signal0.wav','signal1.wav','signal2.wav','signal3.wav','signal4.wav',\n",
    "               'signal5.wav','signal6.wav']\n",
    "    \n",
    "    for s in range( MEMS_NUMBER ):\n",
    "        write(name_wave[s], sps, signal[:,s].astype(np.int16))\n",
    "        axs[s].plot( time, signal[:,s] )\n",
    "        print(type(signal[:,1]))\n",
    "    plt.show()"
   ]
  },
  {
   "cell_type": "code",
   "execution_count": null,
   "id": "b5e94b53",
   "metadata": {},
   "outputs": [
    {
     "name": "stderr",
     "output_type": "stream",
     "text": [
      "\u001b[35;21m2022-01-28 15:55:23,831 \u001b[0m[INFO]: \u001b[34;21m--------------------\u001b[0m\n",
      "\u001b[35;21m2022-01-28 15:55:23,831 \u001b[0m[INFO]: \u001b[34;21mMu32: end\u001b[0m\n",
      "\u001b[35;21m2022-01-28 15:55:23,831 \u001b[0m[INFO]: \u001b[34;21mMu32: Start running recording...\u001b[0m\n",
      "\u001b[35;21m2022-01-28 15:55:23,831 \u001b[0m[INFO]: \u001b[34;21m--------------------\u001b[0m\n",
      "\u001b[35;21m2022-01-28 15:55:23,838 \u001b[0m[INFO]: \u001b[34;21mMu32: sampling frequency: 50000 Hz\u001b[0m\n",
      "\u001b[35;21m2022-01-28 15:55:23,839 \u001b[0m[INFO]: \u001b[34;21m .desired recording duration: 5 s\u001b[0m\n",
      "\u001b[35;21m2022-01-28 15:55:23,840 \u001b[0m[INFO]: \u001b[34;21m .minimal recording duration: 4.997120 s\u001b[0m\n",
      "\u001b[35;21m2022-01-28 15:55:23,842 \u001b[0m[INFO]: \u001b[34;21m .datatype: int32\u001b[0m\n",
      "\u001b[35;21m2022-01-28 15:55:23,844 \u001b[0m[INFO]: \u001b[34;21m .number of USB transfer buffers: 8\u001b[0m\n",
      "\u001b[35;21m2022-01-28 15:55:23,845 \u001b[0m[INFO]: \u001b[34;21m .buffer length in samples number: 512 (10.240000 ms duration)\u001b[0m\n",
      "\u001b[35;21m2022-01-28 15:55:23,845 \u001b[0m[INFO]: \u001b[34;21m .minimal transfers count: 488\u001b[0m\n",
      "\u001b[35;21m2022-01-28 15:55:23,848 \u001b[0m[INFO]: \u001b[34;21m .7 activated microphones\u001b[0m\n",
      "\u001b[35;21m2022-01-28 15:55:23,849 \u001b[0m[INFO]: \u001b[34;21m .activated microphones: (0, 1, 2, 3, 4, 5, 6)\u001b[0m\n",
      "\u001b[35;21m2022-01-28 15:55:24,906 \u001b[0m\u001b[30;1m[WARNING]: \u001b[0m\u001b[33;21min core (core.py:442): Mu32: got 1568 samples against 3584 samples desired. Complete without processing data\u001b[0m\n",
      "\u001b[35;21m2022-01-28 15:55:24,906 \u001b[0m\u001b[30;1m[WARNING]: \u001b[0m\u001b[33;21min core (core.py:442): Mu32: got 0 samples against 3584 samples desired. Complete without processing data\u001b[0m\n",
      "\u001b[35;21m2022-01-28 15:55:29,997 \u001b[0m[INFO]: \u001b[34;21m .end of acquisition\u001b[0m\n",
      "\u001b[35;21m2022-01-28 15:55:29,997 \u001b[0m[INFO]: \u001b[34;21m .processing data...\u001b[0m\n"
     ]
    },
    {
     "name": "stdout",
     "output_type": "stream",
     "text": [
      "<class 'numpy.ndarray'>\n",
      "<class 'numpy.ndarray'>\n",
      "<class 'numpy.ndarray'>\n",
      "<class 'numpy.ndarray'>\n",
      "<class 'numpy.ndarray'>\n",
      "<class 'numpy.ndarray'>\n",
      "<class 'numpy.ndarray'>\n"
     ]
    },
    {
     "data": {
      "image/png": "[encoded data removed]",
      "text/plain": [
       "<Figure size 432x288 with 7 Axes>"
      ]
     },
     "metadata": {
      "needs_background": "light"
     },
     "output_type": "display_data"
    }
   ],
   "source": [
    "\n",
    "\n",
    "\n",
    "mu32 = Mu32()\n",
    "mu32.run(\n",
    "        mems=MEMS,\n",
    "        duration=DURATION,\n",
    "        post_callback_fn=post_callback_plot\n",
    ")\n",
    "\n",
    "# vitesse du son\n",
    "c0 = 340.\n",
    "\n",
    "# *-*-*-*-*-*-*-*-*-*-*-*-*-*-*-*-*-*-*-*-*-*-*-*-\n",
    "# lecture des 7 signaux de sortie des microphones\n",
    "signal=[]\n",
    "File_wave_name=[\"signal0.wav\",\"signal1.wav\",\"signal2.wav\",\n",
    "                \"signal3.wav\",\"signal4.wav\",\"signal5.wav\",\"signal6.wav\"]\n",
    "\n",
    "for i in range (len(File_wave_name)):\n",
    "    samplerate, data = wavfile.read(File_wave_name[i])\n",
    "    signal.append(data)\n",
    "\n",
    "\n",
    "# Création du vecteur d'échantillons de temps \n",
    "fs = 44100     # freq d'échantillonnage [Hz]\n",
    "dt = 1./fs      # résolution temporelle [s]\n",
    "T = 5          # durée de l'enregistrement [s]\n",
    "\n",
    "N_time = int(T*fs)\n",
    "p_array=np.array(signal)\n",
    "\n",
    "# vecteur d'échantillons de temps\n",
    "\n",
    "t = np.linspace(0, T-dt, N_time)\n",
    "p_array=p_array[0:441000]\n",
    "\n",
    "# création d'un tableau linéaire uniforme (Antenne)\n",
    "\n",
    "# *-*-*-*-*-*-*-*-*-*-*-*-*-*-*-*-*-*-*-*-*-*-*-*-\n",
    "# Taille du tableau [mettre]\n",
    "\n",
    "L = 0.36  \n",
    "# *-*-*-*-*-*-*-*-*-*-*-*-*-*-*-*-*-*-*-*-*-*-*-*-\n",
    "# Nombre de capteurs mems dans le tableau d'antenne (doit être impair !)  \n",
    "\n",
    "M = 7   \n",
    "# *-*-*-*-*-*-*-*-*-*-*-*-*-*-*-*-*-*-*-*-*-*-*-*-\n",
    "MyULA = bf.Antenne(L, M)\n",
    "# utiliser le beamforming à retardement et à somme pour déterminer la direction d'arrivée\n",
    "\n",
    "N_theta = 181\n",
    "theta = np.linspace(0, np.pi, N_theta)\n",
    "\n",
    "weights = np.ones(M)\n",
    "y_beamformer,y_energie_dB,angle= bf.beamforming(MyULA, p_array, theta, weights, fs)\n",
    "\n",
    "dB_max = y_energie_dB.max()\n",
    "# *-*-*-*-*-*-*-*-*-*-*-*-*-*-*-*-*-*-*-*-*-*-*-*-\n",
    "# Plage dynamique du tracé polaire\n",
    "dyn_range = 25      # dB\n",
    "# *-*-*-*-*-*-*-*-*-*-*-*-*-*-*-*-*-*-*-*-*-*-*-*-\n",
    "fig = plt.figure()\n",
    "ax = fig.add_subplot(111, polar=True)\n",
    "ax.plot(theta, y_energie_dB)\n",
    "theta0_deg= 90\n",
    "# ajouter une flèche indiquant la direction d'arrivée du signal\n",
    "ax.arrow(angle*np.pi/180, dB_max-dyn_range, 0, dyn_range, width=0.01,\n",
    "         head_width=0.1, head_length=5,\n",
    "         length_includes_head=True, edgecolor = 'red', facecolor = 'red')\n",
    "\n",
    "ax.set_rmax(dB_max)\n",
    "ax.set_rmin(dB_max - dyn_range)\n",
    "\n",
    "ax.set_thetamin(0)\n",
    "ax.set_thetamax(180)\n",
    "fig.set_tight_layout(True)\n",
    "\n",
    "print(f\"L'angle : {angle}\")\n",
    "\n",
    "\n"
   ]
  },
  {
   "cell_type": "markdown",
   "id": "e2666612",
   "metadata": {},
   "source": [
    "# Processing data"
   ]
  },
  {
   "cell_type": "code",
   "execution_count": null,
   "id": "13a865fa",
   "metadata": {},
   "outputs": [],
   "source": [
    "MEMS=(0, 1, 2, 3,4,5,6)\n",
    "MEMS_NUMBER = len( MEMS )\n",
    "DURATION = 1"
   ]
  },
  {
   "cell_type": "code",
   "execution_count": null,
   "id": "61e374b1",
   "metadata": {},
   "outputs": [],
   "source": [
    "\n",
    "def post_callback_plot( mu32: Mu32 ):\n",
    "    print( 'Plot power on (0, 1, 2, 3,4,5,6) microphones' )\n",
    "    q_size = mu32.signal_q.qsize()\n",
    "    if q_size== 0:\n",
    "        raise Exception( 'No received data !' )\n",
    "    \"\"\"\n",
    "    get queued signals\n",
    "    \"\"\"\n",
    "    signal = []\n",
    "    for _ in range( q_size ):\n",
    "        signal = np.append( signal, mu32.signal_q.get( block=False ) )\n",
    "    samples_number = int( len( signal )/mu32.mems_number )\n",
    "    print( 'mems_number=', mu32.mems_number )\n",
    "    print( 'samples_number=', samples_number )\n",
    "    print( 'sampling_frequency=', mu32.sampling_frequency )\n",
    "    print( 'clockdiv=', mu32.clockdiv )\n",
    "    print( 'buffer_length=', mu32.buffer_length )\n",
    "    print( 'buffers_number=', mu32.buffers_number )\n",
    "    signal = signal.reshape( samples_number, MEMS_NUMBER )\n",
    "    \"\"\"\n",
    "    plot signals\n",
    "    \"\"\"\n",
    "    fig, axs = plt.subplots( MEMS_NUMBER )\n",
    "    fig.suptitle( 'Mems power' )\n",
    "    time = np.array( [t for t in range( samples_number )] )*mu32.buffer_length/mu32.sampling_frequency\n",
    "    for s in range( MEMS_NUMBER ):\n",
    "        axs[s].plot( time, signal[:,s] )\n",
    "    plt.show()"
   ]
  },
  {
   "cell_type": "code",
   "execution_count": null,
   "id": "6c9b0873",
   "metadata": {},
   "outputs": [],
   "source": [
    "\n",
    "mu32: Mu32 = Mu32()\n",
    "mu32.run(\n",
    "    mems=MEMS,\n",
    "    duration=DURATION,\n",
    "    post_callback_fn=post_callback_plot,\n",
    "    callback_fn=mu32.callback_power\n",
    ")"
   ]
  },
  {
   "cell_type": "code",
   "execution_count": null,
   "id": "2aed5b3c",
   "metadata": {},
   "outputs": [],
   "source": [
    "def your_callback_power( self, mu32, data: np.ndarray ):\n",
    "    \"\"\"\n",
    "    Compute energy (mean power) on transfered frame\n",
    "    \"\"\"\n",
    "    signal = data.reshape( mu32.buffer_length, mu32.mems_number )\n",
    "    signal = np.float32( signal )/np.float32( 0x07FF )\n",
    "    mean_power = np.sum( signal**2, axis=0 ) / mu32.buffer_length\n",
    "    self.signal_q.put( mean_power )"
   ]
  },
  {
   "cell_type": "code",
   "execution_count": null,
   "id": "030bcd69",
   "metadata": {},
   "outputs": [],
   "source": []
  }
 ],
 "metadata": {
  "kernelspec": {
   "display_name": "Python 3",
   "language": "python",
   "name": "python3"
  },
  "language_info": {
   "codemirror_mode": {
    "name": "ipython",
    "version": 3
   },
   "file_extension": ".py",
   "mimetype": "text/x-python",
   "name": "python",
   "nbconvert_exporter": "python",
   "pygments_lexer": "ipython3",
   "version": "3.8.8"
  }
 },
 "nbformat": 4,
 "nbformat_minor": 5
}
